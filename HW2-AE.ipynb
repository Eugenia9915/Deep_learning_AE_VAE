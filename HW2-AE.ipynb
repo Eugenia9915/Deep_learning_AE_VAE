{
 "cells": [
  {
   "cell_type": "code",
   "execution_count": 1,
   "metadata": {
    "id": "_soXLTNIcPUi"
   },
   "outputs": [],
   "source": [
    "import torch\n",
    "import torch.nn as nn\n",
    "import numpy as np\n",
    "import cv2\n",
    "from torch.utils.data import TensorDataset\n",
    "from torch.utils.data import DataLoader\n",
    "import matplotlib.pyplot as plt\n",
    "\n",
    "\n",
    "## 11110COM 526000 Deep Learning HW2:Variational Autoencoder\n",
    "\n",
    "## Don't change the below two functions (compute_PSNR, compute_SSIM)!!\n",
    "def compute_PSNR(img1, img2): ## 請輸入範圍在0~1的圖片!!!\n",
    "    # Compute Peak Signal to Noise Ratio (PSNR) function\n",
    "    # img1 and img2 > [0, 1] \n",
    "    \n",
    "    img1 = torch.as_tensor(img1, dtype=torch.float32)# In tensor format!!\n",
    "    img2 = torch.as_tensor(img2, dtype=torch.float32)\n",
    "    mse = torch.mean((img1 - img2) ** 2)\n",
    "    return 20 * torch.log10(1 / torch.sqrt(mse))\n",
    "\n",
    "def compute_SSIM(img1, img2): ## 請輸入範圍在0~1的圖片!!!\n",
    "    # Compute Structure Similarity (SSIM) function\n",
    "    # img1 and img2 > [0, 1]\n",
    "    C1 = (0.01 * 1) ** 2\n",
    "    C2 = (0.03 * 1) ** 2\n",
    "\n",
    "    img1 = img1.astype(np.float64)\n",
    "    img2 = img2.astype(np.float64)\n",
    "    kernel = cv2.getGaussianKernel(11, 1.5)\n",
    "    window = np.outer(kernel, kernel.transpose())\n",
    "\n",
    "    mu1 = cv2.filter2D(img1, -1, window)[5:-5, 5:-5]  # valid\n",
    "    mu2 = cv2.filter2D(img2, -1, window)[5:-5, 5:-5]\n",
    "    mu1_sq = mu1**2\n",
    "    mu2_sq = mu2**2\n",
    "    mu1_mu2 = mu1 * mu2\n",
    "    sigma1_sq = cv2.filter2D(img1**2, -1, window)[5:-5, 5:-5] - mu1_sq\n",
    "    sigma2_sq = cv2.filter2D(img2**2, -1, window)[5:-5, 5:-5] - mu2_sq\n",
    "    sigma12 = cv2.filter2D(img1 * img2, -1, window)[5:-5, 5:-5] - mu1_mu2\n",
    "\n",
    "    ssim_map = ((2 * mu1_mu2 + C1) * (2 * sigma12 + C2)) / ((mu1_sq + mu2_sq + C1) * (sigma1_sq + sigma2_sq + C2))\n",
    "    return ssim_map.mean()\n",
    "\n"
   ]
  },
  {
   "cell_type": "code",
   "execution_count": 2,
   "metadata": {
    "id": "-GzzuciF5q3X"
   },
   "outputs": [],
   "source": [
    "lr = 0.001\n",
    "epoch = 100\n",
    "batch = 20"
   ]
  },
  {
   "cell_type": "code",
   "execution_count": 3,
   "metadata": {
    "id": "wECsNoABc4_m"
   },
   "outputs": [],
   "source": [
    "\n",
    "## Feel free to adjust the codes in the hw2_template.py !!!\n",
    "\n",
    "## Read the data\n",
    "x = torch.tensor(np.load('eye/data.npy').astype(np.float32))\n",
    "y = torch.tensor(np.load('eye/label.npy').astype(np.float32))\n",
    "dataset = TensorDataset(x, y)\n",
    "loader = DataLoader(dataset=dataset, shuffle=True, batch_size=batch)\n",
    "total_loader = DataLoader(dataset=dataset, shuffle=True)\n"
   ]
  },
  {
   "cell_type": "code",
   "execution_count": 4,
   "metadata": {
    "colab": {
     "base_uri": "https://localhost:8080/",
     "height": 302
    },
    "id": "kPwdTIgqJ4vY",
    "outputId": "bcbb55c7-c79f-4bce-903a-db804054777a"
   },
   "outputs": [],
   "source": [
    "# print(np.load('eye/data.npy').astype(np.float32).shape)\n",
    "# plt.imshow(np.load('eye/data.npy').astype(np.float32)[0])"
   ]
  },
  {
   "cell_type": "code",
   "execution_count": 5,
   "metadata": {
    "id": "-5keSWiu4jpu"
   },
   "outputs": [],
   "source": [
    "torch.cuda.set_device(0)\n",
    "device = torch.device('cuda' if torch.cuda.is_available() else 'cpu')"
   ]
  },
  {
   "cell_type": "code",
   "execution_count": 6,
   "metadata": {
    "colab": {
     "base_uri": "https://localhost:8080/"
    },
    "id": "6EYQUq9O6KbE",
    "outputId": "5246c69b-98de-4175-f349-f23b919a9155",
    "scrolled": false
   },
   "outputs": [
    {
     "name": "stdout",
     "output_type": "stream",
     "text": [
      "ae(\n",
      "  (encoder): Sequential(\n",
      "    (0): Linear(in_features=7500, out_features=256, bias=True)\n",
      "    (1): ReLU()\n",
      "    (2): Linear(in_features=256, out_features=128, bias=True)\n",
      "    (3): ReLU()\n",
      "  )\n",
      "  (decoder): Sequential(\n",
      "    (0): Linear(in_features=128, out_features=256, bias=True)\n",
      "    (1): ReLU()\n",
      "    (2): Linear(in_features=256, out_features=7500, bias=True)\n",
      "    (3): Sigmoid()\n",
      "  )\n",
      ")\n",
      "Epoch: 0 \tTraining Loss: 0.035045\n",
      "Epoch: 10 \tTraining Loss: 0.009434\n",
      "Epoch: 20 \tTraining Loss: 0.007379\n",
      "Epoch: 30 \tTraining Loss: 0.006461\n",
      "Epoch: 40 \tTraining Loss: 0.005921\n",
      "Epoch: 50 \tTraining Loss: 0.005546\n",
      "Epoch: 60 \tTraining Loss: 0.005226\n",
      "Epoch: 70 \tTraining Loss: 0.004921\n",
      "Epoch: 80 \tTraining Loss: 0.004731\n",
      "Epoch: 90 \tTraining Loss: 0.004522\n",
      "average PSNR=24.04361915588379, SSIM=0.6841096557718379\n"
     ]
    }
   ],
   "source": [
    "class ae(nn.Module):\n",
    "    def __init__(self):\n",
    "        super(ae, self).__init__()\n",
    "        self.encoder = nn.Sequential(\n",
    "            nn.Linear(3*50*50, 256),\n",
    "            nn.ReLU(),\n",
    "            nn.Linear(256, 128),\n",
    "            nn.ReLU()\n",
    "        )\n",
    "        self.decoder = nn.Sequential(\n",
    "            nn.Linear(128, 256),\n",
    "            nn.ReLU(),\n",
    "            nn.Linear(256, 3*50*50),\n",
    "            nn.Sigmoid()\n",
    "        )\n",
    "    def forward(self, x):\n",
    "        x = self.encoder(x)\n",
    "        x = self.decoder(x)\n",
    "        return x\n",
    "\n",
    "model = ae().to(device)\n",
    "print(model)\n",
    "loss_func = nn.MSELoss()\n",
    "optimizer = torch.optim.Adam(model.parameters(), lr=lr)\n",
    "loss_his = []\n",
    "\n",
    "# train\n",
    "for e in range(epoch):\n",
    "    train_loss = 0.0\n",
    "    for d in loader:\n",
    "        img, _ = d\n",
    "        input_img = img.view(-1, 50*50*3).to(device)\n",
    "        output = model(input_img).view(-1, 50, 50, 3)\n",
    "        loss = loss_func(output, input_img.view(-1, 50, 50, 3))\n",
    "        optimizer.zero_grad()\n",
    "        loss.backward()\n",
    "        optimizer.step()\n",
    "        train_loss += loss\n",
    "  # print avg training statistics \n",
    "    train_loss = train_loss/len(loader)\n",
    "    loss_his.append(train_loss.detach().cpu().item())\n",
    "    if e%10 == 0:\n",
    "        print('Epoch: {} \\tTraining Loss: {:.6f}'.format(\n",
    "          e, \n",
    "          train_loss\n",
    "          ))\n",
    "\n",
    "# evaluate\n",
    "total_PSNR = 0\n",
    "total_SSIM = 0\n",
    "for d in total_loader:\n",
    "    img, _ = d\n",
    "    input_img = img.view(-1, 50*50*3).to(device)\n",
    "    output = model(input_img).view(-1, 50, 50, 3).detach().cpu()\n",
    "    total_PSNR += compute_PSNR(img.numpy().reshape(50,50,3), output.numpy().reshape(50,50,3))\n",
    "    total_SSIM += compute_SSIM(img.numpy().reshape(50,50,3), output.numpy().reshape(50,50,3))\n",
    "print('average PSNR={}, SSIM={}'.format(total_PSNR/len(total_loader), total_SSIM/len(total_loader)))\n",
    "\n",
    "  "
   ]
  },
  {
   "cell_type": "code",
   "execution_count": 13,
   "metadata": {},
   "outputs": [
    {
     "data": {
      "text/plain": [
       "[<matplotlib.lines.Line2D at 0x7f6ab3b83160>]"
      ]
     },
     "execution_count": 13,
     "metadata": {},
     "output_type": "execute_result"
    },
    {
     "data": {
      "image/png": "[encoded data removed]",
      "text/plain": [
       "<Figure size 432x288 with 1 Axes>"
      ]
     },
     "metadata": {
      "needs_background": "light"
     },
     "output_type": "display_data"
    }
   ],
   "source": [
    "y_ = loss_his\n",
    "x_ = np.array([i for i in range(1,101)])\n",
    "plt.title('AutoEncoder loss')\n",
    "plt.plot(x_, y_)"
   ]
  },
  {
   "cell_type": "code",
   "execution_count": 14,
   "metadata": {},
   "outputs": [],
   "source": [
    "# save model\n",
    "torch.save(model.state_dict(), 'AE.pth')"
   ]
  },
  {
   "cell_type": "code",
   "execution_count": null,
   "metadata": {
    "id": "pvXn8L0qDF-U"
   },
   "outputs": [],
   "source": [
    "# load model\n",
    "# m = ae().to(device)\n",
    "# m.load_state_dict(torch.load('AE.pth'))\n",
    "# m.eval()"
   ]
  },
  {
   "cell_type": "code",
   "execution_count": null,
   "metadata": {},
   "outputs": [],
   "source": [
    "# total_PSNR = 0\n",
    "# total_SSIM = 0\n",
    "# for d in total_loader:\n",
    "#     img, _ = d\n",
    "#     input_img = img.view(-1, 50*50*3).to(device)\n",
    "#     output = m(input_img).view(-1, 50, 50, 3).detach().cpu()\n",
    "#     total_PSNR += compute_PSNR(img.numpy().reshape(50,50,3), output.numpy().reshape(50,50,3))\n",
    "#     total_SSIM += compute_SSIM(img.numpy().reshape(50,50,3), output.numpy().reshape(50,50,3))\n",
    "# print('average PSNR={}, SSIM={}'.format(total_PSNR/len(total_loader), total_SSIM/len(total_loader)))\n",
    "\n",
    "  \n",
    "  "
   ]
  },
  {
   "cell_type": "code",
   "execution_count": null,
   "metadata": {},
   "outputs": [],
   "source": []
  }
 ],
 "metadata": {
  "accelerator": "GPU",
  "colab": {
   "provenance": []
  },
  "gpuClass": "standard",
  "kernelspec": {
   "display_name": "Python 3.10.8 64-bit (microsoft store)",
   "language": "python",
   "name": "python3"
  },
  "language_info": {
   "codemirror_mode": {
    "name": "ipython",
    "version": 3
   },
   "file_extension": ".py",
   "mimetype": "text/x-python",
   "name": "python",
   "nbconvert_exporter": "python",
   "pygments_lexer": "ipython3",
   "version": "3.10.8"
  },
  "vscode": {
   "interpreter": {
    "hash": "5f872ea1f35b785001390bb46a4311939d4fb1a28143bdbb1d99ee7bc3e8c0e0"
   }
  }
 },
 "nbformat": 4,
 "nbformat_minor": 1
}
