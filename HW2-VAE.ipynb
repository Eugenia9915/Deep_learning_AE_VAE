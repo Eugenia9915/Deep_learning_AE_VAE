{
 "cells": [
  {
   "cell_type": "code",
   "execution_count": 1,
   "metadata": {
    "id": "_soXLTNIcPUi"
   },
   "outputs": [],
   "source": [
    "import math\n",
    "import torch\n",
    "import torch.nn as nn\n",
    "from torch.autograd import Variable\n",
    "import torch.nn.functional as F\n",
    "import numpy as np\n",
    "import cv2\n",
    "from torch.utils.data import TensorDataset, random_split\n",
    "from torch.utils.data import DataLoader\n",
    "import matplotlib.pyplot as plt\n",
    "import numpy\n",
    "\n",
    "## 11110COM 526000 Deep Learning HW2:Variational Autoencoder\n",
    "\n",
    "## Don't change the below two functions (compute_PSNR, compute_SSIM)!!\n",
    "def compute_PSNR(img1, img2): ## 請輸入範圍在0~1的圖片!!!\n",
    "    # Compute Peak Signal to Noise Ratio (PSNR) function\n",
    "    # img1 and img2 > [0, 1] \n",
    "    \n",
    "    img1 = torch.as_tensor(img1, dtype=torch.float32)# In tensor format!!\n",
    "    img2 = torch.as_tensor(img2, dtype=torch.float32)\n",
    "    mse = torch.mean((img1 - img2) ** 2)\n",
    "    return 20 * torch.log10(1 / torch.sqrt(mse))\n",
    "\n",
    "def compute_SSIM(img1, img2): ## 請輸入範圍在0~1的圖片!!!\n",
    "    # Compute Structure Similarity (SSIM) function\n",
    "    # img1 and img2 > [0, 1]\n",
    "    C1 = (0.01 * 1) ** 2\n",
    "    C2 = (0.03 * 1) ** 2\n",
    "\n",
    "    img1 = img1.astype(np.float64)\n",
    "    img2 = img2.astype(np.float64)\n",
    "    kernel = cv2.getGaussianKernel(11, 1.5)\n",
    "    window = np.outer(kernel, kernel.transpose())\n",
    "\n",
    "    mu1 = cv2.filter2D(img1, -1, window)[5:-5, 5:-5]  # valid\n",
    "    mu2 = cv2.filter2D(img2, -1, window)[5:-5, 5:-5]\n",
    "    mu1_sq = mu1**2\n",
    "    mu2_sq = mu2**2\n",
    "    mu1_mu2 = mu1 * mu2\n",
    "    sigma1_sq = cv2.filter2D(img1**2, -1, window)[5:-5, 5:-5] - mu1_sq\n",
    "    sigma2_sq = cv2.filter2D(img2**2, -1, window)[5:-5, 5:-5] - mu2_sq\n",
    "    sigma12 = cv2.filter2D(img1 * img2, -1, window)[5:-5, 5:-5] - mu1_mu2\n",
    "\n",
    "    ssim_map = ((2 * mu1_mu2 + C1) * (2 * sigma12 + C2)) / ((mu1_sq + mu2_sq + C1) * (sigma1_sq + sigma2_sq + C2))\n",
    "    return ssim_map.mean()\n",
    "\n"
   ]
  },
  {
   "cell_type": "code",
   "execution_count": 2,
   "metadata": {
    "id": "wECsNoABc4_m"
   },
   "outputs": [],
   "source": [
    "batch = 20\n",
    "## Feel free to adjust the codes in the hw2_template.py !!!\n",
    "\n",
    "## Read the data\n",
    "x = torch.tensor(np.load('eye/data.npy').astype(np.float32))\n",
    "y = torch.tensor(np.load('eye/label.npy').astype(np.float32))\n",
    "dataset = TensorDataset(x, y)\n",
    "loader = DataLoader(dataset=dataset, shuffle=True, batch_size=batch)\n",
    "total_loader = DataLoader(dataset=dataset, shuffle=True)\n"
   ]
  },
  {
   "cell_type": "code",
   "execution_count": 3,
   "metadata": {
    "colab": {
     "base_uri": "https://localhost:8080/",
     "height": 302
    },
    "id": "kPwdTIgqJ4vY",
    "outputId": "bcbb55c7-c79f-4bce-903a-db804054777a"
   },
   "outputs": [],
   "source": [
    "# print(np.load('eye/data.npy').astype(np.float32).shape)\n",
    "# plt.imshow(np.load('eye/data.npy').astype(np.float32)[0])"
   ]
  },
  {
   "cell_type": "code",
   "execution_count": 4,
   "metadata": {
    "id": "-5keSWiu4jpu"
   },
   "outputs": [],
   "source": [
    "torch.cuda.set_device(0)\n",
    "device = torch.device('cuda' if torch.cuda.is_available() else 'cpu')"
   ]
  },
  {
   "cell_type": "code",
   "execution_count": 5,
   "metadata": {
    "scrolled": false
   },
   "outputs": [
    {
     "name": "stdout",
     "output_type": "stream",
     "text": [
      "vae(\n",
      "  (encoder): Sequential(\n",
      "    (0): Linear(in_features=7500, out_features=4096, bias=True)\n",
      "    (1): ReLU()\n",
      "    (2): Linear(in_features=4096, out_features=1024, bias=True)\n",
      "    (3): ReLU()\n",
      "    (4): Linear(in_features=1024, out_features=512, bias=True)\n",
      "    (5): ReLU()\n",
      "  )\n",
      "  (mean): Linear(in_features=512, out_features=256, bias=True)\n",
      "  (variance): Linear(in_features=512, out_features=256, bias=True)\n",
      "  (decoder): Sequential(\n",
      "    (0): Linear(in_features=256, out_features=512, bias=True)\n",
      "    (1): ReLU()\n",
      "    (2): Linear(in_features=512, out_features=1024, bias=True)\n",
      "    (3): ReLU()\n",
      "    (4): Linear(in_features=1024, out_features=4096, bias=True)\n",
      "    (5): ReLU()\n",
      "    (6): Linear(in_features=4096, out_features=7500, bias=True)\n",
      "    (7): Sigmoid()\n",
      "  )\n",
      ")\n",
      "Epoch: 20 \tTraining Loss: 5046.529297\n",
      "Epoch: 40 \tTraining Loss: 4775.174316\n",
      "Epoch: 60 \tTraining Loss: 4470.612305\n",
      "Epoch: 80 \tTraining Loss: 4362.948242\n",
      "Epoch: 100 \tTraining Loss: 4233.677246\n",
      "Epoch: 120 \tTraining Loss: 4095.579102\n",
      "Epoch: 140 \tTraining Loss: 3891.165527\n",
      "Epoch: 160 \tTraining Loss: 3784.927002\n",
      "Epoch: 180 \tTraining Loss: 3621.857666\n",
      "Epoch: 200 \tTraining Loss: 3501.605469\n",
      "Epoch: 220 \tTraining Loss: 3374.807617\n",
      "Epoch: 240 \tTraining Loss: 3277.469482\n",
      "Epoch: 260 \tTraining Loss: 3147.034912\n",
      "Epoch: 280 \tTraining Loss: 3046.512207\n",
      "Epoch: 300 \tTraining Loss: 2918.094482\n",
      "Epoch: 320 \tTraining Loss: 2868.335693\n",
      "Epoch: 340 \tTraining Loss: 2806.681152\n",
      "Epoch: 360 \tTraining Loss: 2765.283447\n",
      "Epoch: 380 \tTraining Loss: 2713.747070\n",
      "Epoch: 400 \tTraining Loss: 2688.900635\n",
      "average PSNR=24.445768356323242, SSIM=0.770944680297364\n"
     ]
    }
   ],
   "source": [
    "epoch = 400\n",
    "lr = 0.0005\n",
    "loss_his = []\n",
    "\n",
    "class vae(nn.Module):\n",
    "    def __init__(self):\n",
    "        super(vae, self).__init__()\n",
    "        self.encoder = nn.Sequential(\n",
    "            nn.Linear(3*50*50, 4096),\n",
    "            nn.ReLU(),\n",
    "            nn.Linear(4096, 1024),\n",
    "            nn.ReLU(),\n",
    "            nn.Linear(1024, 512),\n",
    "            nn.ReLU()\n",
    "        )\n",
    "        self.mean = nn.Linear(512, 256)\n",
    "        self.variance = nn.Linear(512, 256)\n",
    "        self.decoder = nn.Sequential(\n",
    "            nn.Linear(256, 512),\n",
    "            nn.ReLU(),\n",
    "            nn.Linear(512, 1024),\n",
    "            nn.ReLU(),\n",
    "            nn.Linear(1024, 4096),\n",
    "            nn.ReLU(),\n",
    "            nn.Linear(4096, 3*50*50),\n",
    "            nn.Sigmoid()\n",
    "        )\n",
    "\n",
    "    def encode(self,x):\n",
    "        x = self.encoder(x)\n",
    "        m = self.mean(x)\n",
    "        v = self.variance(x)\n",
    "        return m,v\n",
    "    def forward(self, x):\n",
    "        m,v = self.encode(x)\n",
    "        e = torch.randn_like(v)\n",
    "        t = m+e*torch.exp(v)\n",
    "        out = self.decoder(t)\n",
    "        return m, v, t, out\n",
    "\n",
    "model2 = vae().to(device)\n",
    "print(model2)\n",
    "optimizer2 = torch.optim.Adam(model2.parameters(), lr=lr)\n",
    "\n",
    "# train\n",
    "for e in range(epoch):\n",
    "    train_loss = 0.0\n",
    "    for d in loader:\n",
    "        img, _ = d\n",
    "        input_img = img.view(-1, 50*50*3).to(device)\n",
    "        m, v, t, output = model2(input_img)\n",
    "        sigma = torch.exp(v)\n",
    "        kl_loss = (sigma**2 + m**2 - torch.log(sigma) - 1/2).sum()\n",
    "        loss = ((input_img-output)**2).sum()+kl_loss\n",
    "        optimizer2.zero_grad()\n",
    "        loss.backward()\n",
    "        optimizer2.step()\n",
    "        train_loss += loss\n",
    "  # print avg training statistics\n",
    "    train_loss = train_loss/len(loader)\n",
    "    loss_his.append(train_loss.detach().cpu().item())\n",
    "    if (e+1)%20 == 0:\n",
    "        print('Epoch: {} \\tTraining Loss: {:.6f}'.format(e+1, train_loss))\n",
    "        # print('kl_loss={} mse={}'.format(kl_loss, mse_loss))\n",
    "\n",
    "# evaluate\n",
    "total_PSNR = 0\n",
    "total_SSIM = 0\n",
    "for d in total_loader:\n",
    "    img, _ = d\n",
    "    input_img = img.view(-1, 50*50*3).to(device)\n",
    "    _, _,_,  output = model2(input_img)\n",
    "    output = output.view(-1, 50, 50, 3).detach().cpu()\n",
    "    total_PSNR += compute_PSNR(img.numpy().reshape(50,50,3), output.numpy().reshape(50,50,3))\n",
    "    total_SSIM += compute_SSIM(img.numpy().reshape(50,50,3), output.numpy().reshape(50,50,3))\n",
    "print('average PSNR={}, SSIM={}'.format(total_PSNR/len(total_loader), total_SSIM/len(total_loader)))"
   ]
  },
  {
   "cell_type": "code",
   "execution_count": 6,
   "metadata": {},
   "outputs": [
    {
     "data": {
      "text/plain": [
       "[<matplotlib.lines.Line2D at 0x7f78dc1fb278>]"
      ]
     },
     "execution_count": 6,
     "metadata": {},
     "output_type": "execute_result"
    },
    {
     "data": {
      "image/png": "[encoded data removed]",
      "text/plain": [
       "<Figure size 432x288 with 1 Axes>"
      ]
     },
     "metadata": {
      "needs_background": "light"
     },
     "output_type": "display_data"
    }
   ],
   "source": [
    "y_ = loss_his\n",
    "x_ = np.array([i for i in range(1,401)])\n",
    "plt.title('VAE loss')\n",
    "plt.plot(x_, y_)"
   ]
  },
  {
   "cell_type": "code",
   "execution_count": 7,
   "metadata": {},
   "outputs": [],
   "source": [
    "torch.save(model2,'VAE.pth')"
   ]
  },
  {
   "cell_type": "code",
   "execution_count": 8,
   "metadata": {},
   "outputs": [
    {
     "name": "stdout",
     "output_type": "stream",
     "text": [
      "Sequential(\n",
      "  (0): Linear(in_features=256, out_features=512, bias=True)\n",
      "  (1): ReLU()\n",
      "  (2): Linear(in_features=512, out_features=1024, bias=True)\n",
      "  (3): ReLU()\n",
      "  (4): Linear(in_features=1024, out_features=4096, bias=True)\n",
      "  (5): ReLU()\n",
      "  (6): Linear(in_features=4096, out_features=7500, bias=True)\n",
      "  (7): Sigmoid()\n",
      ")\n"
     ]
    }
   ],
   "source": [
    "decoder = model2.decoder\n",
    "# Q4. use decoder\n",
    "print(decoder)"
   ]
  },
  {
   "cell_type": "code",
   "execution_count": null,
   "metadata": {
    "scrolled": true
   },
   "outputs": [],
   "source": [
    "# evaluate\n",
    "total_PSNR = 0\n",
    "total_SSIM = 0\n",
    "for d in total_loader:\n",
    "    img, _ = d\n",
    "    input_img = img.view(-1, 50*50*3).to(device)\n",
    "    _, _,_,  output = model2(input_img)\n",
    "    output = output.view(-1, 50, 50, 3).detach().cpu()\n",
    "    print('output')\n",
    "    arr_ = np.squeeze(output) # you can give axis attribute if you wanna squeeze in specific dimension\n",
    "    plt.imshow(arr_)\n",
    "    plt.show()\n",
    "    total_PSNR += compute_PSNR(img.numpy().reshape(50,50,3), output.numpy().reshape(50,50,3))\n",
    "    total_SSIM += compute_SSIM(img.numpy().reshape(50,50,3), output.numpy().reshape(50,50,3))\n",
    "print('average PSNR={}, SSIM={}'.format(total_PSNR/len(total_loader), total_SSIM/len(total_loader)))\n"
   ]
  },
  {
   "cell_type": "code",
   "execution_count": null,
   "metadata": {},
   "outputs": [],
   "source": [
    "i = 0\n",
    "k = 0\n",
    "reconstruct = np.zeros((100, 50, 50, 3))\n",
    "for d in total_loader:\n",
    "    if (i>=1 and i<=5) or (i>=226 and i<=230) or (i>=841 and i<=845) or (i>=1471 and i<=1475):\n",
    "        img, _ = d\n",
    "        input_img = img.view(-1, 50*50*3).to(device)\n",
    "        for j in range(5):\n",
    "            _, _, _, output = model2(input_img)\n",
    "            output = output.view(-1, 50, 50, 3).detach().cpu()\n",
    "            reconstruct[k] = output\n",
    "            k += 1\n",
    "    i += 1\n",
    "np.save('gen_data.npy', reconstruct)"
   ]
  },
  {
   "cell_type": "code",
   "execution_count": null,
   "metadata": {},
   "outputs": [],
   "source": [
    "import matplotlib.image\n",
    "'''\n",
    "3 -> 2\n",
    "227 -> 6\n",
    "841 -> 10\n",
    "1475 -> 19\n",
    "'''\n",
    "out_id = [3, 6, 10, 19]\n",
    "for i in out_id:\n",
    "    for j in range(0,5):\n",
    "        matplotlib.image.imsave('output_'+ str(i) + '-' + str(j+1) + '.png', np.squeeze(reconstruct[5*i+j]))"
   ]
  },
  {
   "cell_type": "code",
   "execution_count": null,
   "metadata": {},
   "outputs": [],
   "source": [
    "#確保可以讀取\n",
    "x = torch.tensor(np.load('gen_data.npy').astype(np.float32))\n",
    "load = DataLoader(dataset=TensorDataset(x))\n",
    "for d in load:\n",
    "    img = d[0]\n",
    "    print(img.shape)\n",
    "    arr_ = np.squeeze(img) # you can give axis attribute if you wanna squeeze in specific dimension\n",
    "#     plt.imshow(arr_)\n",
    "#     plt.show()\n",
    "    "
   ]
  },
  {
   "cell_type": "code",
   "execution_count": null,
   "metadata": {
    "id": "pvXn8L0qDF-U"
   },
   "outputs": [],
   "source": [
    "# load model\n",
    "# m = vae().to(device)\n",
    "# m.load_state_dict(torch.load('VAE.pth'))\n",
    "# m.eval()"
   ]
  },
  {
   "cell_type": "code",
   "execution_count": null,
   "metadata": {},
   "outputs": [],
   "source": []
  },
  {
   "cell_type": "code",
   "execution_count": null,
   "metadata": {},
   "outputs": [],
   "source": []
  }
 ],
 "metadata": {
  "accelerator": "GPU",
  "colab": {
   "provenance": []
  },
  "gpuClass": "standard",
  "kernelspec": {
   "display_name": "Python 3.10.8 64-bit (microsoft store)",
   "language": "python",
   "name": "python3"
  },
  "language_info": {
   "codemirror_mode": {
    "name": "ipython",
    "version": 3
   },
   "file_extension": ".py",
   "mimetype": "text/x-python",
   "name": "python",
   "nbconvert_exporter": "python",
   "pygments_lexer": "ipython3",
   "version": "3.10.8"
  },
  "vscode": {
   "interpreter": {
    "hash": "5f872ea1f35b785001390bb46a4311939d4fb1a28143bdbb1d99ee7bc3e8c0e0"
   }
  }
 },
 "nbformat": 4,
 "nbformat_minor": 1
}
